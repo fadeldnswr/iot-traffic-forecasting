{
 "cells": [
  {
   "cell_type": "markdown",
   "id": "82d4795d",
   "metadata": {},
   "source": [
    "## ARIMA and LSTM Model Fine Tuning\n",
    "This notebook used to sandboxing and perform Exploratory Data Analysis for the IoT dataset that we've downloaded from Kaggle. In this notebook, we also want to fine tune the model to reach the best parameters before implement it in the real dataset."
   ]
  },
  {
   "cell_type": "code",
   "execution_count": null,
   "id": "eda73c78",
   "metadata": {},
   "outputs": [],
   "source": [
    "# Import library\n",
    "import numpy as np\n",
    "import seaborn as sns \n",
    "import pandas as pd\n",
    "import matplotlib.pyplot as plt\n",
    "%matplotlib inline"
   ]
  },
  {
   "cell_type": "code",
   "execution_count": null,
   "id": "c0e7a6cd",
   "metadata": {},
   "outputs": [],
   "source": [
    "# Import dataset and read as dataframe\n",
    "import os\n",
    "\n",
    "file_path = \"C:/Kuliah/Semester 6/Signal Processing and Multimedia Services/Project/pslm-project/data/esp32_1_data.csv\"\n",
    "\n",
    "if os.path.exists(file_path):\n",
    "  df = pd.read_csv(file_path)\n",
    "else:\n",
    "  print(\"File not found!\")\n",
    "\n",
    "# Print top 5 rows of the dataset\n",
    "df.head()"
   ]
  },
  {
   "cell_type": "code",
   "execution_count": null,
   "id": "23be6b84",
   "metadata": {},
   "outputs": [],
   "source": [
    "# Change the time column to datetime format and split it into date and time\n",
    "df[\"timestamp\"] = pd.to_datetime(df[\"timestamp\"], format=\"%Y-%m-%d %H:%M:%S.%f\")\n",
    "df[\"date\"] = df[\"timestamp\"].dt.date\n",
    "df[\"time\"] = df[\"timestamp\"].dt.time\n",
    "\n",
    "# Drop the original timestamp column\n",
    "df.drop(columns=[\"timestamp\"], inplace=True)\n",
    "\n",
    "df.head()"
   ]
  },
  {
   "cell_type": "code",
   "execution_count": null,
   "id": "e4df8b6a",
   "metadata": {},
   "outputs": [],
   "source": [
    "# Check the shape of the dataset\n",
    "df.shape"
   ]
  },
  {
   "cell_type": "code",
   "execution_count": null,
   "id": "e9092d66",
   "metadata": {},
   "outputs": [],
   "source": [
    "# Chekk the data types of the columns\n",
    "df.dtypes"
   ]
  },
  {
   "cell_type": "code",
   "execution_count": null,
   "id": "6c9fba98",
   "metadata": {},
   "outputs": [],
   "source": [
    "# Check missing values in the dataset\n",
    "print(f\"Missing values in the dataset \\n{df.isnull().sum()}\\n\")\n",
    "\n",
    "# Check unique values in the dataset\n",
    "print(f\"Unique values in the dataset \\n{df.nunique()}\")"
   ]
  },
  {
   "cell_type": "code",
   "execution_count": null,
   "id": "e943bc10",
   "metadata": {},
   "outputs": [],
   "source": [
    "# Check the distribution of the target variable\n",
    "plt.figure(figsize=(10, 5))\n",
    "plt.plot(df['timestamp'], df['temperature'])\n",
    "plt.show()"
   ]
  }
 ],
 "metadata": {
  "kernelspec": {
   "display_name": "venv",
   "language": "python",
   "name": "python3"
  },
  "language_info": {
   "codemirror_mode": {
    "name": "ipython",
    "version": 3
   },
   "file_extension": ".py",
   "mimetype": "text/x-python",
   "name": "python",
   "nbconvert_exporter": "python",
   "pygments_lexer": "ipython3",
   "version": "3.10.5"
  }
 },
 "nbformat": 4,
 "nbformat_minor": 5
}
